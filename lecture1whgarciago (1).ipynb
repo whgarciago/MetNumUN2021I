{
  "nbformat": 4,
  "nbformat_minor": 0,
  "metadata": {
    "kernelspec": {
      "name": "python3",
      "display_name": "Python 3"
    },
    "colab": {
      "name": "lecture1whgarciago.ipynb",
      "provenance": [],
      "collapsed_sections": []
    }
  },
  "cells": [
    {
      "cell_type": "markdown",
      "metadata": {
        "id": "Ja4bTol-NKWh"
      },
      "source": [
        "#Introduction to the Research Environment\n",
        "\n",
        "The research environment is powered by IPython notebooks, which allow one to perform a great deal of data analysis and statistical validation. We'll demonstrate a few simple techniques here."
      ]
    },
    {
      "cell_type": "markdown",
      "metadata": {
        "id": "VkpGdqBsNKWo"
      },
      "source": [
        "##Code Cells vs. Text Cells\n",
        "\n",
        "As you can see, each cell can be either code or text. To select between them, choose from the 'Cell Type' dropdown menu on the top left."
      ]
    },
    {
      "cell_type": "code",
      "metadata": {
        "id": "ulkiZslpQEmQ"
      },
      "source": [
        ""
      ],
      "execution_count": null,
      "outputs": []
    },
    {
      "cell_type": "markdown",
      "metadata": {
        "id": "fn-XGdweNKWo"
      },
      "source": [
        "##Executing a Command\n",
        "\n",
        "A code cell will be evaluated when you press play, or when you press the shortcut, shift-enter. Evaluating a cell evaluates each line of code in sequence, and prints the results of the last line below the cell."
      ]
    },
    {
      "cell_type": "code",
      "metadata": {
        "id": "AGuOre-ENKWp"
      },
      "source": [
        "2 + 2"
      ],
      "execution_count": null,
      "outputs": []
    },
    {
      "cell_type": "code",
      "metadata": {
        "id": "jtDGUBJ3N4OR",
        "colab": {
          "base_uri": "https://localhost:8080/"
        },
        "outputId": "1aee16dc-ddf8-404a-97d7-d128bf84b995"
      },
      "source": [
        "3.14+2.17"
      ],
      "execution_count": 1,
      "outputs": [
        {
          "output_type": "execute_result",
          "data": {
            "text/plain": [
              "5.3100000000000005"
            ]
          },
          "metadata": {
            "tags": []
          },
          "execution_count": 1
        }
      ]
    },
    {
      "cell_type": "markdown",
      "metadata": {
        "id": "V8_a3GWPNKWp"
      },
      "source": [
        "Sometimes there is no result to be printed, as is the case with assignment."
      ]
    },
    {
      "cell_type": "code",
      "metadata": {
        "collapsed": true,
        "id": "xtHTPq7XNKWq"
      },
      "source": [
        "X = 2"
      ],
      "execution_count": null,
      "outputs": []
    },
    {
      "cell_type": "code",
      "metadata": {
        "id": "HarH1O12Qboz"
      },
      "source": [
        "y = 3\r\n"
      ],
      "execution_count": null,
      "outputs": []
    },
    {
      "cell_type": "markdown",
      "metadata": {
        "id": "kKiCTxGwNKWq"
      },
      "source": [
        "Remember that only the result from the last line is printed."
      ]
    },
    {
      "cell_type": "code",
      "metadata": {
        "id": "RGjLlxOANKWq"
      },
      "source": [
        "2 + 2\n",
        "3 + 3"
      ],
      "execution_count": null,
      "outputs": []
    },
    {
      "cell_type": "code",
      "metadata": {
        "colab": {
          "base_uri": "https://localhost:8080/"
        },
        "id": "GpUlAJFjQ_HW",
        "outputId": "6d2abda2-05b8-4b8d-b2a8-6b3f9e13993d"
      },
      "source": [
        "6+6+6\r\n",
        "5+5+5\r\n",
        "2*3\r\n"
      ],
      "execution_count": 4,
      "outputs": [
        {
          "output_type": "execute_result",
          "data": {
            "text/plain": [
              "6"
            ]
          },
          "metadata": {
            "tags": []
          },
          "execution_count": 4
        }
      ]
    },
    {
      "cell_type": "markdown",
      "metadata": {
        "id": "2Uw6MmEJNKWq"
      },
      "source": [
        "However, you can print whichever lines you want using the `print` statement."
      ]
    },
    {
      "cell_type": "code",
      "metadata": {
        "id": "bS9TEB2LNKWr",
        "colab": {
          "base_uri": "https://localhost:8080/"
        },
        "outputId": "9e71a11c-28ec-4df2-d8ec-b10a65d8f907"
      },
      "source": [
        "print (2 + 2)\n",
        "3 + 3"
      ],
      "execution_count": 7,
      "outputs": [
        {
          "output_type": "stream",
          "text": [
            "4\n"
          ],
          "name": "stdout"
        },
        {
          "output_type": "execute_result",
          "data": {
            "text/plain": [
              "6"
            ]
          },
          "metadata": {
            "tags": []
          },
          "execution_count": 7
        }
      ]
    },
    {
      "cell_type": "code",
      "metadata": {
        "colab": {
          "base_uri": "https://localhost:8080/"
        },
        "id": "ZHN3Wa4lRLlo",
        "outputId": "862a6d6c-10b8-4da8-9120-25ec1e17d679"
      },
      "source": [
        "print (8+8)\r\n",
        "print (9+9)\r\n",
        "\r\n"
      ],
      "execution_count": 8,
      "outputs": [
        {
          "output_type": "stream",
          "text": [
            "16\n",
            "18\n"
          ],
          "name": "stdout"
        }
      ]
    },
    {
      "cell_type": "markdown",
      "metadata": {
        "id": "gBfgskApNKWr"
      },
      "source": [
        "##Knowing When a Cell is Running\n",
        "\n",
        "While a cell is running, a `[*]` will display on the left. When a cell has yet to be executed, `[ ]` will display. When it has been run, a number will display indicating the order in which it was run during the execution of the notebook `[5]`. Try on this cell and note it happening."
      ]
    },
    {
      "cell_type": "code",
      "metadata": {
        "id": "BwLzFAd2NKWr",
        "colab": {
          "base_uri": "https://localhost:8080/"
        },
        "outputId": "e24a0b42-177d-4a94-ebd4-4e9e55c0eb4e"
      },
      "source": [
        "#Take some time to run something\n",
        "c = 0\n",
        "for i in range(10000000):\n",
        "    c = c + i\n",
        "c"
      ],
      "execution_count": 9,
      "outputs": [
        {
          "output_type": "execute_result",
          "data": {
            "text/plain": [
              "49999995000000"
            ]
          },
          "metadata": {
            "tags": []
          },
          "execution_count": 9
        }
      ]
    },
    {
      "cell_type": "code",
      "metadata": {
        "colab": {
          "base_uri": "https://localhost:8080/"
        },
        "id": "u9GgVJtUR7_H",
        "outputId": "2dcfbe77-5676-4b52-8826-271dd0908512"
      },
      "source": [
        "t = 0\r\n",
        "for i in range (20000):\r\n",
        "  t = t + 2*i\r\n",
        "t"
      ],
      "execution_count": 10,
      "outputs": [
        {
          "output_type": "execute_result",
          "data": {
            "text/plain": [
              "399980000"
            ]
          },
          "metadata": {
            "tags": []
          },
          "execution_count": 10
        }
      ]
    },
    {
      "cell_type": "markdown",
      "metadata": {
        "id": "luEiGt_qNKWs"
      },
      "source": [
        "##Importing Libraries\n",
        "\n",
        "The vast majority of the time, you'll want to use functions from pre-built libraries. You can't import every library on Quantopian due to security issues, but you can import most of the common scientific ones. Here I import numpy and pandas, the two most common and useful libraries in quant finance. I recommend copying this import statement to every new notebook.\n",
        "\n",
        "Notice that you can rename libraries to whatever you want after importing. The `as` statement allows this. Here we use `np` and `pd` as aliases for `numpy` and `pandas`. This is a very common aliasing and will be found in most code snippets around the web. The point behind this is to allow you to type fewer characters when you are frequently accessing these libraries."
      ]
    },
    {
      "cell_type": "code",
      "metadata": {
        "collapsed": true,
        "id": "074Lz9rjNKWs"
      },
      "source": [
        "import numpy as np\n",
        "import pandas as pd\n",
        "\n",
        "# This is a plotting library for pretty pictures.\n",
        "import matplotlib.pyplot as plt"
      ],
      "execution_count": 11,
      "outputs": []
    },
    {
      "cell_type": "code",
      "metadata": {
        "id": "b5TInZ3KScC1"
      },
      "source": [
        "import tensorflow as tf\r\n"
      ],
      "execution_count": null,
      "outputs": []
    },
    {
      "cell_type": "markdown",
      "metadata": {
        "id": "dxhWzUwMNKWs"
      },
      "source": [
        "##Tab Autocomplete\n",
        "\n",
        "Pressing tab will give you a list of IPython's best guesses for what you might want to type next. This is incredibly valuable and will save you a lot of time. If there is only one possible option for what you could type next, IPython will fill that in for you. Try pressing tab very frequently, it will seldom fill in anything you don't want, as if there is ambiguity a list will be shown. This is a great way to see what functions are available in a library.\n",
        "\n",
        "Try placing your cursor after the `.` and pressing tab."
      ]
    },
    {
      "cell_type": "code",
      "metadata": {
        "id": "s2zh4Rq6NKWt"
      },
      "source": [
        "np.random.binomial"
      ],
      "execution_count": null,
      "outputs": []
    },
    {
      "cell_type": "code",
      "metadata": {
        "id": "UnzDy6rpTENf"
      },
      "source": [
        "np.random.exponential\r\n"
      ],
      "execution_count": null,
      "outputs": []
    },
    {
      "cell_type": "markdown",
      "metadata": {
        "id": "M40fNHMHNKWt"
      },
      "source": [
        "##Getting Documentation Help\n",
        "\n",
        "Placing a question mark after a function and executing that line of code will give you the documentation IPython has for that function. It's often best to do this in a new cell, as you avoid re-executing other code and running into bugs."
      ]
    },
    {
      "cell_type": "code",
      "metadata": {
        "collapsed": true,
        "id": "ni4XPk2MNKWt"
      },
      "source": [
        "np.random.normal?"
      ],
      "execution_count": null,
      "outputs": []
    },
    {
      "cell_type": "code",
      "metadata": {
        "id": "XWIxyqfcTLGM"
      },
      "source": [
        "np.random.exponential?\r\n"
      ],
      "execution_count": 14,
      "outputs": []
    },
    {
      "cell_type": "markdown",
      "metadata": {
        "id": "bcB6PCTPNKWt"
      },
      "source": [
        "##Sampling\n",
        "\n",
        "We'll sample some random data using a function from `numpy`."
      ]
    },
    {
      "cell_type": "code",
      "metadata": {
        "id": "HZzC2hgENKWt"
      },
      "source": [
        "# Sample 100 points with a mean of 0 and an std of 1. This is a standard normal distribution.\n",
        "X = np.random.normal(0, 1, 100)"
      ],
      "execution_count": null,
      "outputs": []
    },
    {
      "cell_type": "code",
      "metadata": {
        "id": "mc7aTVh1TTHp"
      },
      "source": [
        "Y = np.random.exponential(0.5,300)\r\n",
        "Y"
      ],
      "execution_count": null,
      "outputs": []
    },
    {
      "cell_type": "markdown",
      "metadata": {
        "id": "YnUdi8yENKWu"
      },
      "source": [
        "##Plotting\n",
        "\n",
        "We can use the plotting library we imported as follows."
      ]
    },
    {
      "cell_type": "code",
      "metadata": {
        "id": "m6De9mO6NKWu"
      },
      "source": [
        "plt.plot(X)"
      ],
      "execution_count": null,
      "outputs": []
    },
    {
      "cell_type": "code",
      "metadata": {
        "colab": {
          "base_uri": "https://localhost:8080/",
          "height": 283
        },
        "id": "O3NdmjV-T1MD",
        "outputId": "423ac546-7dce-4ba6-ff01-310cfc1310dc"
      },
      "source": [
        "plt.plot(Y)"
      ],
      "execution_count": 16,
      "outputs": [
        {
          "output_type": "execute_result",
          "data": {
            "text/plain": [
              "[<matplotlib.lines.Line2D at 0x7fb463e16e90>]"
            ]
          },
          "metadata": {
            "tags": []
          },
          "execution_count": 16
        },
        {
          "output_type": "display_data",
          "data": {
            "image/png": "[encoded data removed]",
            "text/plain": [
              "<Figure size 432x288 with 1 Axes>"
            ]
          },
          "metadata": {
            "tags": [],
            "needs_background": "light"
          }
        }
      ]
    },
    {
      "cell_type": "markdown",
      "metadata": {
        "id": "0ftN4nICNKWu"
      },
      "source": [
        "###Squelching Line Output\n",
        "\n",
        "You might have noticed the annoying line of the form `[<matplotlib.lines.Line2D at 0x7f72fdbc1710>]` before the plots. This is because the `.plot` function actually produces output. Sometimes we wish not to display output, we can accomplish this with the semi-colon as follows."
      ]
    },
    {
      "cell_type": "code",
      "metadata": {
        "id": "7joZNDDrNKWu"
      },
      "source": [
        "plt.plot(X);"
      ],
      "execution_count": null,
      "outputs": []
    },
    {
      "cell_type": "code",
      "metadata": {
        "colab": {
          "base_uri": "https://localhost:8080/",
          "height": 265
        },
        "id": "E7JGpL4tT-U8",
        "outputId": "ce897b6f-d577-45f2-9c11-b02c25ae05b2"
      },
      "source": [
        "plt.plot(Y);"
      ],
      "execution_count": 17,
      "outputs": [
        {
          "output_type": "display_data",
          "data": {
            "image/png": "[encoded data removed]",
            "text/plain": [
              "<Figure size 432x288 with 1 Axes>"
            ]
          },
          "metadata": {
            "tags": [],
            "needs_background": "light"
          }
        }
      ]
    },
    {
      "cell_type": "markdown",
      "metadata": {
        "id": "NTCYW91CNKWu"
      },
      "source": [
        "###Adding Axis Labels\n",
        "\n",
        "No self-respecting quant leaves a graph without labeled axes. Here are some commands to help with that."
      ]
    },
    {
      "cell_type": "code",
      "metadata": {
        "id": "IRH9QGg2NKWv",
        "colab": {
          "base_uri": "https://localhost:8080/",
          "height": 279
        },
        "outputId": "98ec6dba-12e7-4c63-fa23-aaf81690a9b5"
      },
      "source": [
        "X = np.random.normal(0, 1, 100)\n",
        "X2 = np.random.normal(0, 1, 100)\n",
        "\n",
        "plt.plot(X);\n",
        "plt.plot(X2);\n",
        "plt.xlabel('Time') # The data we generated is unitless, but don't forget units in general.\n",
        "plt.ylabel('Returns')\n",
        "plt.legend(['X', 'X2']);"
      ],
      "execution_count": 18,
      "outputs": [
        {
          "output_type": "display_data",
          "data": {
            "image/png": "[encoded data removed]",
            "text/plain": [
              "<Figure size 432x288 with 1 Axes>"
            ]
          },
          "metadata": {
            "tags": [],
            "needs_background": "light"
          }
        }
      ]
    },
    {
      "cell_type": "code",
      "metadata": {
        "colab": {
          "base_uri": "https://localhost:8080/",
          "height": 297
        },
        "id": "sTxPD6aYUQ0-",
        "outputId": "db450402-870d-4d3f-e9ac-8c806c7868a3"
      },
      "source": [
        "plt.plot(Y)\r\n",
        "plt.xlabel(\"X\")\r\n",
        "plt.ylabel(\"Data\")\r\n",
        "plt.legend('Y')"
      ],
      "execution_count": 19,
      "outputs": [
        {
          "output_type": "execute_result",
          "data": {
            "text/plain": [
              "<matplotlib.legend.Legend at 0x7fb460b0e690>"
            ]
          },
          "metadata": {
            "tags": []
          },
          "execution_count": 19
        },
        {
          "output_type": "display_data",
          "data": {
            "image/png": "[encoded data removed]",
            "text/plain": [
              "<Figure size 432x288 with 1 Axes>"
            ]
          },
          "metadata": {
            "tags": [],
            "needs_background": "light"
          }
        }
      ]
    },
    {
      "cell_type": "markdown",
      "metadata": {
        "id": "0DYGzYp_NKWv"
      },
      "source": [
        "##Generating Statistics\n",
        "\n",
        "Let's use `numpy` to take some simple statistics."
      ]
    },
    {
      "cell_type": "code",
      "metadata": {
        "id": "jQYx_wNtNKWv"
      },
      "source": [
        "np.mean(X)"
      ],
      "execution_count": null,
      "outputs": []
    },
    {
      "cell_type": "code",
      "metadata": {
        "id": "7d3KI-PUNKWv"
      },
      "source": [
        "np.std(X)"
      ],
      "execution_count": null,
      "outputs": []
    },
    {
      "cell_type": "code",
      "metadata": {
        "colab": {
          "base_uri": "https://localhost:8080/"
        },
        "id": "ujzAERtXUpJw",
        "outputId": "6c631b50-1b89-4874-dffb-0d9381232e92"
      },
      "source": [
        "print (\"Mean:\",np.mean(Y))\r\n",
        "print (\"STD:\",np.std(Y))"
      ],
      "execution_count": 22,
      "outputs": [
        {
          "output_type": "stream",
          "text": [
            "Mean: 0.5175234285675239\n",
            "STD: 0.47748102253280694\n"
          ],
          "name": "stdout"
        }
      ]
    },
    {
      "cell_type": "markdown",
      "metadata": {
        "id": "2SUzUKmPNKWv"
      },
      "source": [
        "##Getting Real Pricing Data\n",
        "\n",
        "Randomly sampled data can be great for testing ideas, but let's get some real data. We can use `get_pricing` to do that. You can use the `?` syntax as discussed above to get more information on `get_pricing`'s arguments."
      ]
    },
    {
      "cell_type": "code",
      "metadata": {
        "id": "puUvYoW4NKWw"
      },
      "source": [
        "data = get_pricing('MSFT', start_date='2012-1-1', end_date='2015-6-1')"
      ],
      "execution_count": null,
      "outputs": []
    },
    {
      "cell_type": "code",
      "metadata": {
        "id": "jmIylbrvVDbz"
      },
      "source": [
        "#hubo que agregar esta libreria para los datos\r\n",
        "import pandas_datareader as pdr\r\n",
        "import datetime\r\n"
      ],
      "execution_count": 23,
      "outputs": []
    },
    {
      "cell_type": "code",
      "metadata": {
        "id": "PXI3V1JRVBAn"
      },
      "source": [
        "dataejemplo = pdr.get_data_yahoo('AAPL', start=datetime.datetime(2009,11,1),end=datetime.datetime(2009,12,31))"
      ],
      "execution_count": 24,
      "outputs": []
    },
    {
      "cell_type": "markdown",
      "metadata": {
        "id": "eMzEd5nkNKWw"
      },
      "source": [
        "Our data is now a dataframe. You can see the datetime index and the colums with different pricing data."
      ]
    },
    {
      "cell_type": "code",
      "metadata": {
        "id": "KnHvttKTNKWw"
      },
      "source": [
        "data"
      ],
      "execution_count": null,
      "outputs": []
    },
    {
      "cell_type": "code",
      "metadata": {
        "colab": {
          "base_uri": "https://localhost:8080/",
          "height": 1000
        },
        "id": "mivJcNaoZMEw",
        "outputId": "feed7f9d-51b8-4492-8194-92dbf1674cd1"
      },
      "source": [
        "dataejemplo\r\n"
      ],
      "execution_count": 28,
      "outputs": [
        {
          "output_type": "execute_result",
          "data": {
            "text/html": [
              "<div>\n",
              "<style scoped>\n",
              "    .dataframe tbody tr th:only-of-type {\n",
              "        vertical-align: middle;\n",
              "    }\n",
              "\n",
              "    .dataframe tbody tr th {\n",
              "        vertical-align: top;\n",
              "    }\n",
              "\n",
              "    .dataframe thead th {\n",
              "        text-align: right;\n",
              "    }\n",
              "</style>\n",
              "<table border=\"1\" class=\"dataframe\">\n",
              "  <thead>\n",
              "    <tr style=\"text-align: right;\">\n",
              "      <th></th>\n",
              "      <th>High</th>\n",
              "      <th>Low</th>\n",
              "      <th>Open</th>\n",
              "      <th>Close</th>\n",
              "      <th>Volume</th>\n",
              "      <th>Adj Close</th>\n",
              "    </tr>\n",
              "    <tr>\n",
              "      <th>Date</th>\n",
              "      <th></th>\n",
              "      <th></th>\n",
              "      <th></th>\n",
              "      <th></th>\n",
              "      <th></th>\n",
              "      <th></th>\n",
              "    </tr>\n",
              "  </thead>\n",
              "  <tbody>\n",
              "    <tr>\n",
              "      <th>2009-11-02</th>\n",
              "      <td>6.888571</td>\n",
              "      <td>6.627500</td>\n",
              "      <td>6.778571</td>\n",
              "      <td>6.761071</td>\n",
              "      <td>678983200</td>\n",
              "      <td>5.823740</td>\n",
              "    </tr>\n",
              "    <tr>\n",
              "      <th>2009-11-03</th>\n",
              "      <td>6.768571</td>\n",
              "      <td>6.640000</td>\n",
              "      <td>6.708929</td>\n",
              "      <td>6.741071</td>\n",
              "      <td>522541600</td>\n",
              "      <td>5.806512</td>\n",
              "    </tr>\n",
              "    <tr>\n",
              "      <th>2009-11-04</th>\n",
              "      <td>6.923214</td>\n",
              "      <td>6.793929</td>\n",
              "      <td>6.811786</td>\n",
              "      <td>6.814643</td>\n",
              "      <td>487530400</td>\n",
              "      <td>5.869884</td>\n",
              "    </tr>\n",
              "    <tr>\n",
              "      <th>2009-11-05</th>\n",
              "      <td>6.964286</td>\n",
              "      <td>6.850714</td>\n",
              "      <td>6.871429</td>\n",
              "      <td>6.929643</td>\n",
              "      <td>384801200</td>\n",
              "      <td>5.968940</td>\n",
              "    </tr>\n",
              "    <tr>\n",
              "      <th>2009-11-06</th>\n",
              "      <td>6.971071</td>\n",
              "      <td>6.871429</td>\n",
              "      <td>6.875357</td>\n",
              "      <td>6.940714</td>\n",
              "      <td>295097600</td>\n",
              "      <td>5.978477</td>\n",
              "    </tr>\n",
              "    <tr>\n",
              "      <th>2009-11-09</th>\n",
              "      <td>7.210714</td>\n",
              "      <td>7.009286</td>\n",
              "      <td>7.033571</td>\n",
              "      <td>7.195000</td>\n",
              "      <td>528855600</td>\n",
              "      <td>6.197509</td>\n",
              "    </tr>\n",
              "    <tr>\n",
              "      <th>2009-11-10</th>\n",
              "      <td>7.320714</td>\n",
              "      <td>7.178929</td>\n",
              "      <td>7.179286</td>\n",
              "      <td>7.249286</td>\n",
              "      <td>401195200</td>\n",
              "      <td>6.244270</td>\n",
              "    </tr>\n",
              "    <tr>\n",
              "      <th>2009-11-11</th>\n",
              "      <td>7.321429</td>\n",
              "      <td>7.208214</td>\n",
              "      <td>7.305714</td>\n",
              "      <td>7.258929</td>\n",
              "      <td>443870000</td>\n",
              "      <td>6.252577</td>\n",
              "    </tr>\n",
              "    <tr>\n",
              "      <th>2009-11-12</th>\n",
              "      <td>7.316786</td>\n",
              "      <td>7.193929</td>\n",
              "      <td>7.255000</td>\n",
              "      <td>7.213929</td>\n",
              "      <td>363731200</td>\n",
              "      <td>6.213815</td>\n",
              "    </tr>\n",
              "    <tr>\n",
              "      <th>2009-11-13</th>\n",
              "      <td>7.315357</td>\n",
              "      <td>7.216786</td>\n",
              "      <td>7.245357</td>\n",
              "      <td>7.301786</td>\n",
              "      <td>343240800</td>\n",
              "      <td>6.289492</td>\n",
              "    </tr>\n",
              "    <tr>\n",
              "      <th>2009-11-16</th>\n",
              "      <td>7.428571</td>\n",
              "      <td>7.321786</td>\n",
              "      <td>7.338571</td>\n",
              "      <td>7.379643</td>\n",
              "      <td>485206400</td>\n",
              "      <td>6.356554</td>\n",
              "    </tr>\n",
              "    <tr>\n",
              "      <th>2009-11-17</th>\n",
              "      <td>7.408571</td>\n",
              "      <td>7.321429</td>\n",
              "      <td>7.360000</td>\n",
              "      <td>7.392857</td>\n",
              "      <td>396513600</td>\n",
              "      <td>6.367937</td>\n",
              "    </tr>\n",
              "    <tr>\n",
              "      <th>2009-11-18</th>\n",
              "      <td>7.392857</td>\n",
              "      <td>7.285714</td>\n",
              "      <td>7.376429</td>\n",
              "      <td>7.355714</td>\n",
              "      <td>374320800</td>\n",
              "      <td>6.335944</td>\n",
              "    </tr>\n",
              "    <tr>\n",
              "      <th>2009-11-19</th>\n",
              "      <td>7.307500</td>\n",
              "      <td>7.135714</td>\n",
              "      <td>7.307500</td>\n",
              "      <td>7.161071</td>\n",
              "      <td>542326400</td>\n",
              "      <td>6.168283</td>\n",
              "    </tr>\n",
              "    <tr>\n",
              "      <th>2009-11-20</th>\n",
              "      <td>7.156786</td>\n",
              "      <td>7.062857</td>\n",
              "      <td>7.112500</td>\n",
              "      <td>7.140000</td>\n",
              "      <td>406666400</td>\n",
              "      <td>6.150134</td>\n",
              "    </tr>\n",
              "    <tr>\n",
              "      <th>2009-11-23</th>\n",
              "      <td>7.357143</td>\n",
              "      <td>7.248214</td>\n",
              "      <td>7.250000</td>\n",
              "      <td>7.352857</td>\n",
              "      <td>474896800</td>\n",
              "      <td>6.333482</td>\n",
              "    </tr>\n",
              "    <tr>\n",
              "      <th>2009-11-24</th>\n",
              "      <td>7.352857</td>\n",
              "      <td>7.246429</td>\n",
              "      <td>7.333214</td>\n",
              "      <td>7.301429</td>\n",
              "      <td>318438400</td>\n",
              "      <td>6.289182</td>\n",
              "    </tr>\n",
              "    <tr>\n",
              "      <th>2009-11-25</th>\n",
              "      <td>7.344643</td>\n",
              "      <td>7.277143</td>\n",
              "      <td>7.335714</td>\n",
              "      <td>7.292500</td>\n",
              "      <td>286454000</td>\n",
              "      <td>6.281493</td>\n",
              "    </tr>\n",
              "    <tr>\n",
              "      <th>2009-11-27</th>\n",
              "      <td>7.248571</td>\n",
              "      <td>7.084643</td>\n",
              "      <td>7.115000</td>\n",
              "      <td>7.163929</td>\n",
              "      <td>295257200</td>\n",
              "      <td>6.170748</td>\n",
              "    </tr>\n",
              "    <tr>\n",
              "      <th>2009-11-30</th>\n",
              "      <td>7.202857</td>\n",
              "      <td>7.098929</td>\n",
              "      <td>7.182500</td>\n",
              "      <td>7.139643</td>\n",
              "      <td>424858000</td>\n",
              "      <td>6.149828</td>\n",
              "    </tr>\n",
              "    <tr>\n",
              "      <th>2009-12-01</th>\n",
              "      <td>7.241786</td>\n",
              "      <td>7.029643</td>\n",
              "      <td>7.222857</td>\n",
              "      <td>7.034643</td>\n",
              "      <td>465763200</td>\n",
              "      <td>6.059385</td>\n",
              "    </tr>\n",
              "    <tr>\n",
              "      <th>2009-12-02</th>\n",
              "      <td>7.193571</td>\n",
              "      <td>6.991071</td>\n",
              "      <td>7.105714</td>\n",
              "      <td>7.008214</td>\n",
              "      <td>715260000</td>\n",
              "      <td>6.036619</td>\n",
              "    </tr>\n",
              "    <tr>\n",
              "      <th>2009-12-03</th>\n",
              "      <td>7.106429</td>\n",
              "      <td>7.009643</td>\n",
              "      <td>7.050714</td>\n",
              "      <td>7.017143</td>\n",
              "      <td>448719600</td>\n",
              "      <td>6.044310</td>\n",
              "    </tr>\n",
              "    <tr>\n",
              "      <th>2009-12-04</th>\n",
              "      <td>7.138571</td>\n",
              "      <td>6.795714</td>\n",
              "      <td>7.132143</td>\n",
              "      <td>6.904286</td>\n",
              "      <td>826884800</td>\n",
              "      <td>5.947100</td>\n",
              "    </tr>\n",
              "    <tr>\n",
              "      <th>2009-12-07</th>\n",
              "      <td>6.920357</td>\n",
              "      <td>6.738571</td>\n",
              "      <td>6.904286</td>\n",
              "      <td>6.748214</td>\n",
              "      <td>714758800</td>\n",
              "      <td>5.812665</td>\n",
              "    </tr>\n",
              "    <tr>\n",
              "      <th>2009-12-08</th>\n",
              "      <td>6.869643</td>\n",
              "      <td>6.739286</td>\n",
              "      <td>6.762857</td>\n",
              "      <td>6.781071</td>\n",
              "      <td>690398800</td>\n",
              "      <td>5.840968</td>\n",
              "    </tr>\n",
              "    <tr>\n",
              "      <th>2009-12-09</th>\n",
              "      <td>7.077143</td>\n",
              "      <td>6.796786</td>\n",
              "      <td>6.831429</td>\n",
              "      <td>7.064286</td>\n",
              "      <td>684782000</td>\n",
              "      <td>6.084918</td>\n",
              "    </tr>\n",
              "    <tr>\n",
              "      <th>2009-12-10</th>\n",
              "      <td>7.132143</td>\n",
              "      <td>7.004286</td>\n",
              "      <td>7.125000</td>\n",
              "      <td>7.015357</td>\n",
              "      <td>489669600</td>\n",
              "      <td>6.042772</td>\n",
              "    </tr>\n",
              "    <tr>\n",
              "      <th>2009-12-11</th>\n",
              "      <td>7.071429</td>\n",
              "      <td>6.908214</td>\n",
              "      <td>7.063571</td>\n",
              "      <td>6.952500</td>\n",
              "      <td>429774800</td>\n",
              "      <td>5.988629</td>\n",
              "    </tr>\n",
              "    <tr>\n",
              "      <th>2009-12-14</th>\n",
              "      <td>7.051071</td>\n",
              "      <td>6.877143</td>\n",
              "      <td>6.977500</td>\n",
              "      <td>7.035000</td>\n",
              "      <td>495790400</td>\n",
              "      <td>6.059691</td>\n",
              "    </tr>\n",
              "    <tr>\n",
              "      <th>2009-12-15</th>\n",
              "      <td>7.053929</td>\n",
              "      <td>6.902500</td>\n",
              "      <td>6.993929</td>\n",
              "      <td>6.934643</td>\n",
              "      <td>419459600</td>\n",
              "      <td>5.973249</td>\n",
              "    </tr>\n",
              "    <tr>\n",
              "      <th>2009-12-16</th>\n",
              "      <td>7.017857</td>\n",
              "      <td>6.948214</td>\n",
              "      <td>6.967857</td>\n",
              "      <td>6.965357</td>\n",
              "      <td>352984800</td>\n",
              "      <td>5.999703</td>\n",
              "    </tr>\n",
              "    <tr>\n",
              "      <th>2009-12-17</th>\n",
              "      <td>6.964286</td>\n",
              "      <td>6.821429</td>\n",
              "      <td>6.937857</td>\n",
              "      <td>6.852143</td>\n",
              "      <td>388838800</td>\n",
              "      <td>5.902186</td>\n",
              "    </tr>\n",
              "    <tr>\n",
              "      <th>2009-12-18</th>\n",
              "      <td>6.982143</td>\n",
              "      <td>6.878571</td>\n",
              "      <td>6.898929</td>\n",
              "      <td>6.979643</td>\n",
              "      <td>608770400</td>\n",
              "      <td>6.012009</td>\n",
              "    </tr>\n",
              "    <tr>\n",
              "      <th>2009-12-21</th>\n",
              "      <td>7.133929</td>\n",
              "      <td>6.988214</td>\n",
              "      <td>7.001786</td>\n",
              "      <td>7.079643</td>\n",
              "      <td>611906400</td>\n",
              "      <td>6.098145</td>\n",
              "    </tr>\n",
              "    <tr>\n",
              "      <th>2009-12-22</th>\n",
              "      <td>7.173214</td>\n",
              "      <td>7.095000</td>\n",
              "      <td>7.122857</td>\n",
              "      <td>7.155714</td>\n",
              "      <td>349515600</td>\n",
              "      <td>6.163670</td>\n",
              "    </tr>\n",
              "    <tr>\n",
              "      <th>2009-12-23</th>\n",
              "      <td>7.227857</td>\n",
              "      <td>7.171786</td>\n",
              "      <td>7.185714</td>\n",
              "      <td>7.217857</td>\n",
              "      <td>345525600</td>\n",
              "      <td>6.217198</td>\n",
              "    </tr>\n",
              "    <tr>\n",
              "      <th>2009-12-24</th>\n",
              "      <td>7.476786</td>\n",
              "      <td>7.262500</td>\n",
              "      <td>7.269643</td>\n",
              "      <td>7.465714</td>\n",
              "      <td>500889200</td>\n",
              "      <td>6.430691</td>\n",
              "    </tr>\n",
              "    <tr>\n",
              "      <th>2009-12-28</th>\n",
              "      <td>7.641071</td>\n",
              "      <td>7.486071</td>\n",
              "      <td>7.561429</td>\n",
              "      <td>7.557500</td>\n",
              "      <td>644565600</td>\n",
              "      <td>6.509755</td>\n",
              "    </tr>\n",
              "    <tr>\n",
              "      <th>2009-12-29</th>\n",
              "      <td>7.597143</td>\n",
              "      <td>7.454643</td>\n",
              "      <td>7.593929</td>\n",
              "      <td>7.467857</td>\n",
              "      <td>445205600</td>\n",
              "      <td>6.432538</td>\n",
              "    </tr>\n",
              "    <tr>\n",
              "      <th>2009-12-30</th>\n",
              "      <td>7.571429</td>\n",
              "      <td>7.439643</td>\n",
              "      <td>7.458214</td>\n",
              "      <td>7.558571</td>\n",
              "      <td>412084400</td>\n",
              "      <td>6.510676</td>\n",
              "    </tr>\n",
              "    <tr>\n",
              "      <th>2009-12-31</th>\n",
              "      <td>7.619643</td>\n",
              "      <td>7.520000</td>\n",
              "      <td>7.611786</td>\n",
              "      <td>7.526071</td>\n",
              "      <td>352410800</td>\n",
              "      <td>6.482683</td>\n",
              "    </tr>\n",
              "  </tbody>\n",
              "</table>\n",
              "</div>"
            ],
            "text/plain": [
              "                High       Low      Open     Close     Volume  Adj Close\n",
              "Date                                                                    \n",
              "2009-11-02  6.888571  6.627500  6.778571  6.761071  678983200   5.823740\n",
              "2009-11-03  6.768571  6.640000  6.708929  6.741071  522541600   5.806512\n",
              "2009-11-04  6.923214  6.793929  6.811786  6.814643  487530400   5.869884\n",
              "2009-11-05  6.964286  6.850714  6.871429  6.929643  384801200   5.968940\n",
              "2009-11-06  6.971071  6.871429  6.875357  6.940714  295097600   5.978477\n",
              "2009-11-09  7.210714  7.009286  7.033571  7.195000  528855600   6.197509\n",
              "2009-11-10  7.320714  7.178929  7.179286  7.249286  401195200   6.244270\n",
              "2009-11-11  7.321429  7.208214  7.305714  7.258929  443870000   6.252577\n",
              "2009-11-12  7.316786  7.193929  7.255000  7.213929  363731200   6.213815\n",
              "2009-11-13  7.315357  7.216786  7.245357  7.301786  343240800   6.289492\n",
              "2009-11-16  7.428571  7.321786  7.338571  7.379643  485206400   6.356554\n",
              "2009-11-17  7.408571  7.321429  7.360000  7.392857  396513600   6.367937\n",
              "2009-11-18  7.392857  7.285714  7.376429  7.355714  374320800   6.335944\n",
              "2009-11-19  7.307500  7.135714  7.307500  7.161071  542326400   6.168283\n",
              "2009-11-20  7.156786  7.062857  7.112500  7.140000  406666400   6.150134\n",
              "2009-11-23  7.357143  7.248214  7.250000  7.352857  474896800   6.333482\n",
              "2009-11-24  7.352857  7.246429  7.333214  7.301429  318438400   6.289182\n",
              "2009-11-25  7.344643  7.277143  7.335714  7.292500  286454000   6.281493\n",
              "2009-11-27  7.248571  7.084643  7.115000  7.163929  295257200   6.170748\n",
              "2009-11-30  7.202857  7.098929  7.182500  7.139643  424858000   6.149828\n",
              "2009-12-01  7.241786  7.029643  7.222857  7.034643  465763200   6.059385\n",
              "2009-12-02  7.193571  6.991071  7.105714  7.008214  715260000   6.036619\n",
              "2009-12-03  7.106429  7.009643  7.050714  7.017143  448719600   6.044310\n",
              "2009-12-04  7.138571  6.795714  7.132143  6.904286  826884800   5.947100\n",
              "2009-12-07  6.920357  6.738571  6.904286  6.748214  714758800   5.812665\n",
              "2009-12-08  6.869643  6.739286  6.762857  6.781071  690398800   5.840968\n",
              "2009-12-09  7.077143  6.796786  6.831429  7.064286  684782000   6.084918\n",
              "2009-12-10  7.132143  7.004286  7.125000  7.015357  489669600   6.042772\n",
              "2009-12-11  7.071429  6.908214  7.063571  6.952500  429774800   5.988629\n",
              "2009-12-14  7.051071  6.877143  6.977500  7.035000  495790400   6.059691\n",
              "2009-12-15  7.053929  6.902500  6.993929  6.934643  419459600   5.973249\n",
              "2009-12-16  7.017857  6.948214  6.967857  6.965357  352984800   5.999703\n",
              "2009-12-17  6.964286  6.821429  6.937857  6.852143  388838800   5.902186\n",
              "2009-12-18  6.982143  6.878571  6.898929  6.979643  608770400   6.012009\n",
              "2009-12-21  7.133929  6.988214  7.001786  7.079643  611906400   6.098145\n",
              "2009-12-22  7.173214  7.095000  7.122857  7.155714  349515600   6.163670\n",
              "2009-12-23  7.227857  7.171786  7.185714  7.217857  345525600   6.217198\n",
              "2009-12-24  7.476786  7.262500  7.269643  7.465714  500889200   6.430691\n",
              "2009-12-28  7.641071  7.486071  7.561429  7.557500  644565600   6.509755\n",
              "2009-12-29  7.597143  7.454643  7.593929  7.467857  445205600   6.432538\n",
              "2009-12-30  7.571429  7.439643  7.458214  7.558571  412084400   6.510676\n",
              "2009-12-31  7.619643  7.520000  7.611786  7.526071  352410800   6.482683"
            ]
          },
          "metadata": {
            "tags": []
          },
          "execution_count": 28
        }
      ]
    },
    {
      "cell_type": "markdown",
      "metadata": {
        "id": "fykHk1NzNKWw"
      },
      "source": [
        "This is a pandas dataframe, so we can index in to just get price like this. For more info on pandas, please [click here](http://pandas.pydata.org/pandas-docs/stable/10min.html)."
      ]
    },
    {
      "cell_type": "code",
      "metadata": {
        "id": "6O759mZ8NKWz"
      },
      "source": [
        "X = data['price']"
      ],
      "execution_count": null,
      "outputs": []
    },
    {
      "cell_type": "code",
      "metadata": {
        "id": "kzZfeOmJZVbM"
      },
      "source": [
        "T = dataejemplo['Close']\r\n",
        "T\r\n"
      ],
      "execution_count": null,
      "outputs": []
    },
    {
      "cell_type": "markdown",
      "metadata": {
        "id": "c13S84LxNKWz"
      },
      "source": [
        "Because there is now also date information in our data, we provide two series to `.plot`. `X.index` gives us the datetime index, and `X.values` gives us the pricing values. These are used as the X and Y coordinates to make a graph."
      ]
    },
    {
      "cell_type": "code",
      "metadata": {
        "id": "cg57Yr33NKW0"
      },
      "source": [
        "plt.plot(X.index, X.values)\n",
        "plt.ylabel('Price')\n",
        "plt.legend(['MSFT']);"
      ],
      "execution_count": null,
      "outputs": []
    },
    {
      "cell_type": "code",
      "metadata": {
        "colab": {
          "base_uri": "https://localhost:8080/",
          "height": 283
        },
        "id": "_N6npC1aaT9X",
        "outputId": "7cb6c51c-e185-4fd8-dd09-21aa79630a2d"
      },
      "source": [
        "plt.plot(T);\r\n",
        "plt.ylabel('Close')"
      ],
      "execution_count": 35,
      "outputs": [
        {
          "output_type": "execute_result",
          "data": {
            "text/plain": [
              "Text(0, 0.5, 'Close')"
            ]
          },
          "metadata": {
            "tags": []
          },
          "execution_count": 35
        },
        {
          "output_type": "display_data",
          "data": {
            "image/png": "[encoded data removed]",
            "text/plain": [
              "<Figure size 432x288 with 1 Axes>"
            ]
          },
          "metadata": {
            "tags": [],
            "needs_background": "light"
          }
        }
      ]
    },
    {
      "cell_type": "markdown",
      "metadata": {
        "id": "A0YQDhmBNKW0"
      },
      "source": [
        "We can get statistics again on real data."
      ]
    },
    {
      "cell_type": "code",
      "metadata": {
        "id": "iiWRWH6FNKW0"
      },
      "source": [
        "np.mean(X)"
      ],
      "execution_count": null,
      "outputs": []
    },
    {
      "cell_type": "code",
      "metadata": {
        "id": "LJ7VIbQdNKW0"
      },
      "source": [
        "np.std(X)"
      ],
      "execution_count": null,
      "outputs": []
    },
    {
      "cell_type": "code",
      "metadata": {
        "colab": {
          "base_uri": "https://localhost:8080/"
        },
        "id": "pazweR8eaok9",
        "outputId": "f27b88f4-afa9-464f-959a-65030e04f4f2"
      },
      "source": [
        "print (\"Mean AAPl close value: \", np.mean(T))\r\n",
        "print (\"STD AAPL close value: \", np.std(T))\r\n"
      ],
      "execution_count": 36,
      "outputs": [
        {
          "output_type": "stream",
          "text": [
            "Mean AAPl close value:  7.128741445995512\n",
            "STD AAPL close value:  0.22697584438428584\n"
          ],
          "name": "stdout"
        }
      ]
    },
    {
      "cell_type": "markdown",
      "metadata": {
        "id": "-MPv2sLxNKW0"
      },
      "source": [
        "##Getting Returns from Prices\n",
        "\n",
        "We can use the `pct_change` function to get returns. Notice how we drop the first element after doing this, as it will be `NaN` (nothing -> something results in a NaN percent change)."
      ]
    },
    {
      "cell_type": "code",
      "metadata": {
        "id": "E1vDLMBuNKW1"
      },
      "source": [
        "R = X.pct_change()[1:]"
      ],
      "execution_count": null,
      "outputs": []
    },
    {
      "cell_type": "code",
      "metadata": {
        "id": "lDn6EgMhbIsm"
      },
      "source": [
        "w = T.pct_change()[1:]"
      ],
      "execution_count": 37,
      "outputs": []
    },
    {
      "cell_type": "markdown",
      "metadata": {
        "id": "W8TXJsf7NKW1"
      },
      "source": [
        "We can plot the returns distribution as a histogram."
      ]
    },
    {
      "cell_type": "code",
      "metadata": {
        "id": "EcFusPPYNKW1"
      },
      "source": [
        "plt.hist(R, bins=20)\n",
        "plt.xlabel('Return')\n",
        "plt.ylabel('Frequency')\n",
        "plt.legend(['MSFT Returns']);"
      ],
      "execution_count": null,
      "outputs": []
    },
    {
      "cell_type": "code",
      "metadata": {
        "colab": {
          "base_uri": "https://localhost:8080/",
          "height": 279
        },
        "id": "sAySIWClbRSS",
        "outputId": "cb4c804a-6262-4e12-b7fb-831b640dae67"
      },
      "source": [
        "plt.hist(w, bins=20)\r\n",
        "plt.xlabel('Return')\r\n",
        "plt.ylabel('Frequency')\r\n",
        "plt.legend(['AAPL Returns']);"
      ],
      "execution_count": 38,
      "outputs": [
        {
          "output_type": "display_data",
          "data": {
            "image/png": "[encoded data removed]",
            "text/plain": [
              "<Figure size 432x288 with 1 Axes>"
            ]
          },
          "metadata": {
            "tags": [],
            "needs_background": "light"
          }
        }
      ]
    },
    {
      "cell_type": "markdown",
      "metadata": {
        "id": "3c9dC-CoNKW1"
      },
      "source": [
        "Get statistics again."
      ]
    },
    {
      "cell_type": "code",
      "metadata": {
        "id": "dtrlKpj6NKW2"
      },
      "source": [
        "np.mean(R)"
      ],
      "execution_count": null,
      "outputs": []
    },
    {
      "cell_type": "code",
      "metadata": {
        "id": "kt4i3PlZNKW2"
      },
      "source": [
        "np.std(R)"
      ],
      "execution_count": null,
      "outputs": []
    },
    {
      "cell_type": "code",
      "metadata": {
        "colab": {
          "base_uri": "https://localhost:8080/"
        },
        "id": "uQKweBvJbcK0",
        "outputId": "7d047fcf-2e26-4ff7-f3ff-67497f299d37"
      },
      "source": [
        "print (\"Average returns:\" , np.mean(w))\r\n",
        "print (\"Retunrs STD: \", np.std(w))"
      ],
      "execution_count": 39,
      "outputs": [
        {
          "output_type": "stream",
          "text": [
            "Average returns: 0.0027353779035582696\n",
            "Retunrs STD:  0.015392603080470685\n"
          ],
          "name": "stdout"
        }
      ]
    },
    {
      "cell_type": "markdown",
      "metadata": {
        "id": "ljuYxc71NKW2"
      },
      "source": [
        "Now let's go backwards and generate data out of a normal distribution using the statistics we estimated from Microsoft's returns. We'll see that we have good reason to suspect Microsoft's returns may not be normal, as the resulting normal distribution looks far different."
      ]
    },
    {
      "cell_type": "code",
      "metadata": {
        "id": "DQlG-UhxNKW3"
      },
      "source": [
        "plt.hist(np.random.normal(np.mean(R), np.std(R), 10000), bins=20)\n",
        "plt.xlabel('Return')\n",
        "plt.ylabel('Frequency')\n",
        "plt.legend(['Normally Distributed Returns']);"
      ],
      "execution_count": null,
      "outputs": []
    },
    {
      "cell_type": "code",
      "metadata": {
        "colab": {
          "base_uri": "https://localhost:8080/",
          "height": 279
        },
        "id": "O4LzfqkpeFNY",
        "outputId": "f2b7346f-ec7a-4cc0-866d-ace926662f94"
      },
      "source": [
        "plt.hist(np.random.normal(np.mean(w), np.std(w), 10000), bins=20)\r\n",
        "plt.xlabel('Return')\r\n",
        "plt.ylabel('Frequency')\r\n",
        "plt.legend(['Normally Distributed Returns']);"
      ],
      "execution_count": 42,
      "outputs": [
        {
          "output_type": "display_data",
          "data": {
            "image/png": "[encoded data removed]",
            "text/plain": [
              "<Figure size 432x288 with 1 Axes>"
            ]
          },
          "metadata": {
            "tags": [],
            "needs_background": "light"
          }
        }
      ]
    },
    {
      "cell_type": "markdown",
      "metadata": {
        "id": "Dgf1dfU0NKW3"
      },
      "source": [
        "##Generating a Moving Average\n",
        "\n",
        "`pandas` has some nice tools to allow us to generate rolling statistics. Here's an example. Notice how there's no moving average for the first 60 days, as we don't have 60 days of data on which to generate the statistic."
      ]
    },
    {
      "cell_type": "code",
      "metadata": {
        "id": "cHGrpdU9NKW3"
      },
      "source": [
        "# Take the average of the last 60 days at each timepoint.\n",
        "MAVG = pd.rolling_mean(X, window=60)\n",
        "plt.plot(X.index, X.values)\n",
        "plt.plot(MAVG.index, MAVG.values)\n",
        "plt.ylabel('Price')\n",
        "plt.legend(['MSFT', '60-day MAVG']);"
      ],
      "execution_count": null,
      "outputs": []
    },
    {
      "cell_type": "code",
      "metadata": {
        "colab": {
          "base_uri": "https://localhost:8080/",
          "height": 265
        },
        "id": "JLv-3cbneiyq",
        "outputId": "a7a0d67c-e9a3-43f3-b249-fdfac2e3c086"
      },
      "source": [
        "ejemplo = w.rolling(10).mean()\r\n",
        "plt.plot(w.index, w.values)\r\n",
        "plt.plot(w.index, ejemplo.values)\r\n",
        "plt.ylabel('Price')\r\n",
        "plt.legend(['AAPL', '10-day ejemplo']);"
      ],
      "execution_count": 46,
      "outputs": [
        {
          "output_type": "display_data",
          "data": {
            "image/png": "[encoded data removed]",
            "text/plain": [
              "<Figure size 432x288 with 1 Axes>"
            ]
          },
          "metadata": {
            "tags": [],
            "needs_background": "light"
          }
        }
      ]
    },
    {
      "cell_type": "code",
      "metadata": {
        "id": "drujz7xBfyAT"
      },
      "source": [
        ""
      ],
      "execution_count": null,
      "outputs": []
    },
    {
      "cell_type": "markdown",
      "metadata": {
        "id": "d8XMkuFyNKW3"
      },
      "source": [
        "This presentation is for informational purposes only and does not constitute an offer to sell, a solicitation to buy, or a recommendation for any security; nor does it constitute an offer to provide investment advisory or other services by Quantopian, Inc. (\"Quantopian\"). Nothing contained herein constitutes investment advice or offers any opinion with respect to the suitability of any security, and any views expressed herein should not be taken as advice to buy, sell, or hold any security or as an endorsement of any security or company. In preparing the information contained herein, Quantopian, Inc. has not taken into account the investment needs, objectives, and financial circumstances of any particular investor. Any views expressed and data illustrated herein were prepared based upon information, believed to be reliable, available to Quantopian, Inc. at the time of publication. Quantopian makes no guarantees as to their accuracy or completeness. All information is subject to change and may quickly become unreliable for various reasons, including changes in market conditions or economic circumstances."
      ]
    }
  ]
}